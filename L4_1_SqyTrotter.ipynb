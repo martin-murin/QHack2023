{
 "cells": [
  {
   "cell_type": "code",
   "execution_count": 7,
   "id": "cba0620a-9cb8-47c9-953d-70dc21ff9ba1",
   "metadata": {},
   "outputs": [
    {
     "name": "stdout",
     "output_type": "stream",
     "text": [
      "Running test case 0 with input '[0.5,0.8,0.2,1]'...\n",
      "[0.5, 0.8, 0.2, 1]\n",
      "[0.9900332889206205, 0.0, 0.0, 0.009966711079379189]\n",
      "Correct!\n",
      "Running test case 1 with input '[0.9,1.0,0.4,2]'...\n",
      "[0.9, 1.0, 0.4, 2]\n",
      "[0.8759028645704475, 0.0, 0.0, 0.12409713542955253]\n",
      "Correct!\n"
     ]
    }
   ],
   "source": [
    "import json\n",
    "import pennylane as qml\n",
    "import pennylane.numpy as np\n",
    "\n",
    "dev = qml.device('default.qubit', wires = 2)\n",
    "\n",
    "@qml.qnode(dev)\n",
    "def trotterize(alpha, beta, time, depth):\n",
    "    \"\"\"This quantum circuit implements the Trotterization of a Hamiltonian given by a linear combination\n",
    "    of tensor products of X and Z Pauli gates.\n",
    "\n",
    "    Args:\n",
    "        alpha (float): The coefficient of the XX term in the Hamiltonian, as in the statement of the problem.\n",
    "        beta (float): The coefficient of the YY term in the Hamiltonian, as in the statement of the problem.\n",
    "        time (float): Time interval during which the quantum state evolves under the interactions specified by the Hamiltonian.\n",
    "        depth (int): The Trotterization depth.\n",
    "\n",
    "    Returns:\n",
    "        (numpy.array): The probabilities of each measuring each computational basis state.\n",
    "    \"\"\"\n",
    "    for n in range(depth):\n",
    "        qml.IsingXX(2*alpha*time/depth, wires=[0,1])\n",
    "        qml.IsingZZ(2*beta*time/depth, wires=[0,1])\n",
    "\n",
    "    # Put your code here #\n",
    "    # Return the probabilities\n",
    "    return qml.probs(wires=[0,1])\n",
    "\n",
    "# These functions are responsible for testing the solution.\n",
    "def run(test_case_input: str) -> str:\n",
    "    dev = qml.device(\"default.qubit\", wires=2)\n",
    "    ins = json.loads(test_case_input)\n",
    "    print(ins)\n",
    "    output = list(trotterize(*ins).numpy())\n",
    "    print(output)\n",
    "    return str(output)\n",
    "\n",
    "def check(solution_output: str, expected_output: str) -> None:\n",
    "    solution_output = json.loads(solution_output)\n",
    "    expected_output = json.loads(expected_output)\n",
    "    assert np.allclose(\n",
    "        solution_output, expected_output, rtol=1e-4\n",
    "    ), \"Your circuit does not give the correct probabilities.\"\n",
    "\n",
    "    tape = trotterize.qtape\n",
    "\n",
    "    names = [op.name for op in tape.operations]\n",
    "    \n",
    "    assert names.count('ApproxTimeEvolution') == 0, \"Your circuit is using the built-in PennyLane Trotterization\"\n",
    "    assert names.count('QubitUnitary') == 0, \"Can't use custom-built gates!\"\n",
    "\n",
    "\n",
    "test_cases = [['[0.5,0.8,0.2,1]', '[0.99003329, 0, 0, 0.00996671]'], ['[0.9,1.0,0.4,2]', '[0.87590286, 0, 0, 0.12409714]']]\n",
    "\n",
    "for i, (input_, expected_output) in enumerate(test_cases):\n",
    "    print(f\"Running test case {i} with input '{input_}'...\")\n",
    "\n",
    "    try:\n",
    "        output = run(input_)\n",
    "\n",
    "    except Exception as exc:\n",
    "        print(f\"Runtime Error. {exc}\")\n",
    "\n",
    "    else:\n",
    "        if message := check(output, expected_output):\n",
    "            print(f\"Wrong Answer. Have: '{output}'. Want: '{expected_output}'.\")\n",
    "\n",
    "        else:\n",
    "            print(\"Correct!\")"
   ]
  },
  {
   "cell_type": "code",
   "execution_count": null,
   "id": "121356cd-67f5-4918-ac50-c1c0b2c72526",
   "metadata": {},
   "outputs": [],
   "source": []
  }
 ],
 "metadata": {
  "kernelspec": {
   "display_name": "PennyLane",
   "language": "python",
   "name": "pennylane"
  },
  "language_info": {
   "codemirror_mode": {
    "name": "ipython",
    "version": 3
   },
   "file_extension": ".py",
   "mimetype": "text/x-python",
   "name": "python",
   "nbconvert_exporter": "python",
   "pygments_lexer": "ipython3",
   "version": "3.9.15"
  }
 },
 "nbformat": 4,
 "nbformat_minor": 5
}
