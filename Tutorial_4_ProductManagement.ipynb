{
 "cells": [
  {
   "cell_type": "code",
   "execution_count": 9,
   "id": "9f89e0f5-26dc-47f2-96a5-338c74f24e61",
   "metadata": {},
   "outputs": [
    {
     "name": "stdout",
     "output_type": "stream",
     "text": [
      "Running test case 0 with input '[[0.707107, 0, 0, 0.707107], [0], [0, 1]]'...\n",
      "Correct!\n",
      "Running test case 1 with input '[[1, 0, 0, 0], [0], [0, 1]]'...\n",
      "Correct!\n"
     ]
    }
   ],
   "source": [
    "import json\n",
    "import pennylane as qml\n",
    "import pennylane.numpy as np\n",
    "\n",
    "def is_product(state, subsystem, wires):\n",
    "    \"\"\"Determines if a pure quantum state can be written as a product state between \n",
    "    a subsystem of wires and their compliment.\n",
    "\n",
    "    Args:\n",
    "        state (numpy.array): The quantum state of interest.\n",
    "        subsystem (list(int)): The subsystem used to determine if the state is a product state.\n",
    "        wires (list(int)): The wire/qubit labels for the state. Use these for creating a QNode if you wish!\n",
    "\n",
    "    Returns:\n",
    "        (str): \"yes\" if the state is a product state or \"no\" if it isn't.\n",
    "    \"\"\"\n",
    "    purity = qml.math.purity(state, subsystem, wires)\n",
    "    if purity == 1.:\n",
    "        return \"yes\"\n",
    "    else:\n",
    "        return \"no\"\n",
    "\n",
    "# These functions are responsible for testing the solution.\n",
    "def run(test_case_input: str) -> str:\n",
    "    ins = json.loads(test_case_input)\n",
    "    state, subsystem, wires = ins\n",
    "    state = np.array(state)\n",
    "    output = is_product(state, subsystem, wires)\n",
    "    return output\n",
    "\n",
    "def check(solution_output: str, expected_output: str) -> None:\n",
    "    assert solution_output == expected_output\n",
    "\n",
    "\n",
    "test_cases = [['[[0.707107, 0, 0, 0.707107], [0], [0, 1]]', 'no'], ['[[1, 0, 0, 0], [0], [0, 1]]', 'yes']]\n",
    "\n",
    "for i, (input_, expected_output) in enumerate(test_cases):\n",
    "    print(f\"Running test case {i} with input '{input_}'...\")\n",
    "\n",
    "    try:\n",
    "        output = run(input_)\n",
    "\n",
    "    except Exception as exc:\n",
    "        print(f\"Runtime Error. {exc}\")\n",
    "\n",
    "    else:\n",
    "        if message := check(output, expected_output):\n",
    "            print(f\"Wrong Answer. Have: '{output}'. Want: '{expected_output}'.\")\n",
    "\n",
    "        else:\n",
    "            print(\"Correct!\")"
   ]
  },
  {
   "cell_type": "code",
   "execution_count": null,
   "id": "bad64c5c-4b62-42a1-8f74-265994d24a85",
   "metadata": {},
   "outputs": [],
   "source": []
  }
 ],
 "metadata": {
  "kernelspec": {
   "display_name": "PennyLane",
   "language": "python",
   "name": "pennylane"
  },
  "language_info": {
   "codemirror_mode": {
    "name": "ipython",
    "version": 3
   },
   "file_extension": ".py",
   "mimetype": "text/x-python",
   "name": "python",
   "nbconvert_exporter": "python",
   "pygments_lexer": "ipython3",
   "version": "3.9.15"
  }
 },
 "nbformat": 4,
 "nbformat_minor": 5
}
