{
 "cells": [
  {
   "cell_type": "code",
   "execution_count": 4,
   "id": "570e1883-7981-4922-819a-23dcddd58038",
   "metadata": {},
   "outputs": [
    {
     "ename": "SyntaxError",
     "evalue": "invalid syntax (1830641140.py, line 1)",
     "output_type": "error",
     "traceback": [
      "\u001b[0;36m  File \u001b[0;32m\"/tmp/ipykernel_78/1830641140.py\"\u001b[0;36m, line \u001b[0;32m1\u001b[0m\n\u001b[0;31m    [1:4]\u001b[0m\n\u001b[0m      ^\u001b[0m\n\u001b[0;31mSyntaxError\u001b[0m\u001b[0;31m:\u001b[0m invalid syntax\n"
     ]
    }
   ],
   "source": []
  },
  {
   "cell_type": "code",
   "execution_count": 8,
   "id": "3967f5a1-16d7-4c96-88a6-cf2f4ce5dfa4",
   "metadata": {},
   "outputs": [
    {
     "name": "stdout",
     "output_type": "stream",
     "text": [
      "Running test case 0 with input '8'...\n",
      "Correct!\n"
     ]
    }
   ],
   "source": [
    "import json\n",
    "import pennylane as qml\n",
    "import pennylane.numpy as np\n",
    "\n",
    "def hamiltonian(num_wires):\n",
    "    \"\"\"A function for creating the Hamiltonian in question for a general\n",
    "    number of qubits.\n",
    "\n",
    "    Args:\n",
    "        num_wires (int): The number of qubits.\n",
    "\n",
    "    Returns:\n",
    "        (qml.Hamiltonian): A PennyLane Hamiltonian.\n",
    "    \"\"\"\n",
    "\n",
    "\n",
    "    # Put your solution here #\n",
    "    result = 0\n",
    "    for j in range(num_wires):\n",
    "        if j != 0:\n",
    "            for i in range(j):\n",
    "                result += 1/3*qml.PauliX(i) @ qml.PauliX(j)\n",
    "        result -= qml.PauliZ(j)\n",
    "    return result\n",
    "\n",
    "\n",
    "def expectation_value(num_wires):\n",
    "    \"\"\"Simulates the circuit in question and returns the expectation value of the \n",
    "    Hamiltonian in question.\n",
    "\n",
    "    Args:\n",
    "        num_wires (int): The number of qubits.\n",
    "\n",
    "    Returns:\n",
    "        (float): The expectation value of the Hamiltonian.\n",
    "    \"\"\"\n",
    "\n",
    "\n",
    "    # Put your solution here #\n",
    "\n",
    "    # Define a device using qml.device\n",
    "    dev = qml.device(\"default.qubit\", wires=num_wires)\n",
    "\n",
    "\n",
    "    @qml.qnode(dev)\n",
    "    def circuit(num_wires):\n",
    "        \"\"\"A quantum circuit with Hadamard gates on every qubit and that measures\n",
    "        the expectation value of the Hamiltonian in question. \n",
    "        \"\"\"\n",
    "\n",
    "\n",
    "        # Put Hadamard gates here #\n",
    "        for i in range(num_wires):\n",
    "            qml.Hadamard(i)\n",
    "            \n",
    "        # Then return the expectation value of the Hamiltonian using qml.expval\n",
    "        return qml.expval(hamiltonian(num_wires))\n",
    "\n",
    "\n",
    "    return circuit(num_wires)\n",
    "\n",
    "\n",
    "# These functions are responsible for testing the solution.\n",
    "def run(test_case_input: str) -> str:\n",
    "    num_wires = json.loads(test_case_input)\n",
    "    output = expectation_value(num_wires)\n",
    "\n",
    "    return str(output)\n",
    "\n",
    "def check(solution_output: str, expected_output: str) -> None:\n",
    "    solution_output = json.loads(solution_output)\n",
    "    expected_output = json.loads(expected_output)\n",
    "    assert np.allclose(solution_output, expected_output, rtol=1e-4)\n",
    "\n",
    "\n",
    "test_cases = [['8', '9.33333']]\n",
    "\n",
    "for i, (input_, expected_output) in enumerate(test_cases):\n",
    "    print(f\"Running test case {i} with input '{input_}'...\")\n",
    "\n",
    "    try:\n",
    "        output = run(input_)\n",
    "\n",
    "    except Exception as exc:\n",
    "        print(f\"Runtime Error. {exc}\")\n",
    "\n",
    "    else:\n",
    "        if message := check(output, expected_output):\n",
    "            print(f\"Wrong Answer. Have: '{output}'. Want: '{expected_output}'.\")\n",
    "\n",
    "        else:\n",
    "            print(\"Correct!\")"
   ]
  },
  {
   "cell_type": "code",
   "execution_count": null,
   "id": "5351474e-edce-40bd-b0a8-219a8d698edc",
   "metadata": {},
   "outputs": [],
   "source": []
  }
 ],
 "metadata": {
  "kernelspec": {
   "display_name": "PennyLane",
   "language": "python",
   "name": "pennylane"
  },
  "language_info": {
   "codemirror_mode": {
    "name": "ipython",
    "version": 3
   },
   "file_extension": ".py",
   "mimetype": "text/x-python",
   "name": "python",
   "nbconvert_exporter": "python",
   "pygments_lexer": "ipython3",
   "version": "3.9.15"
  }
 },
 "nbformat": 4,
 "nbformat_minor": 5
}
